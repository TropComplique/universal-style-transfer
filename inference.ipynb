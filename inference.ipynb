{
 "cells": [
  {
   "cell_type": "code",
   "execution_count": null,
   "metadata": {},
   "outputs": [],
   "source": [
    "import tensorflow as tf"
   ]
  },
  {
   "cell_type": "code",
   "execution_count": null,
   "metadata": {},
   "outputs": [],
   "source": [
    "tf.reset_default_graph()\n",
    "\n",
    "MODEL_PATH = 'model.pb'\n",
    "with tf.gfile.GFile(MODEL_PATH, 'rb') as f:\n",
    "    graph_def = tf.GraphDef()\n",
    "    graph_def.ParseFromString(f.read())\n",
    "\n",
    "graph = tf.Graph()\n",
    "with graph.as_default():\n",
    "    tf.import_graph_def(graph_def, name='import')\n",
    "\n",
    "input_tensor = graph.get_tensor_by_name('import/images:0')\n",
    "names = [\n",
    "    'features', 'restored_images'\n",
    "]\n",
    "output_tensors = {n: graph.get_tensor_by_name('import/' + n + ':0') for n in names}\n",
    "\n",
    "gpu_options = tf.GPUOptions(\n",
    "    per_process_gpu_memory_fraction=1.0,\n",
    "    visible_device_list='0'\n",
    ")\n",
    "config_proto = tf.ConfigProto(gpu_options=gpu_options, log_device_placement=False)\n",
    "sess = tf.Session(graph=graph, config=config_proto)\n",
    "\n",
    "def predict(image):\n",
    "    # image - a RGB uint8 image\n",
    "    \n",
    "    start = time.perf_counter()\n",
    "    feed_dict = {\n",
    "        input_tensor: np.expand_dims(image, 0)\n",
    "    }\n",
    "    result = sess.run(output_tensors, feed_dict)\n",
    "    inference_time = time.perf_counter() - start\n",
    "    \n",
    "    return result, inference_time"
   ]
  },
  {
   "cell_type": "code",
   "execution_count": null,
   "metadata": {},
   "outputs": [],
   "source": [
    "from PIL import Image\n",
    "import numpy as np\n",
    "import time"
   ]
  },
  {
   "cell_type": "code",
   "execution_count": null,
   "metadata": {},
   "outputs": [],
   "source": [
    "image = Image.open('/mnt/datasets/celeba_good_faces/val/184817.jpg')\n",
    "image"
   ]
  },
  {
   "cell_type": "code",
   "execution_count": null,
   "metadata": {},
   "outputs": [],
   "source": [
    "result, inference_time = predict(np.array(image))\n",
    "inference_time"
   ]
  },
  {
   "cell_type": "code",
   "execution_count": null,
   "metadata": {},
   "outputs": [],
   "source": [
    "r = (np.clip(result['restored_images'][0], 0, 255)).astype('uint8')"
   ]
  },
  {
   "cell_type": "code",
   "execution_count": null,
   "metadata": {},
   "outputs": [],
   "source": [
    "Image.fromarray(np.concatenate([np.array(image), r], axis=1))"
   ]
  },
  {
   "cell_type": "code",
   "execution_count": null,
   "metadata": {},
   "outputs": [],
   "source": [
    "Image.fromarray(r)"
   ]
  }
 ],
 "metadata": {
  "kernelspec": {
   "display_name": "Python 3",
   "language": "python",
   "name": "python3"
  },
  "language_info": {
   "codemirror_mode": {
    "name": "ipython",
    "version": 3
   },
   "file_extension": ".py",
   "mimetype": "text/x-python",
   "name": "python",
   "nbconvert_exporter": "python",
   "pygments_lexer": "ipython3",
   "version": "3.6.3"
  }
 },
 "nbformat": 4,
 "nbformat_minor": 2
}
